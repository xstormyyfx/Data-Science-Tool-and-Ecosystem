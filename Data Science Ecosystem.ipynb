{
 "cells": [
  {
   "metadata": {},
   "cell_type": "markdown",
   "source": "# Data Science Tools and Ecosystem\n**In this Notebook, Data Science Tools and Ecosystem are summarized.**\n\n### Objectives:\n_In the following you'll get shown:_\n+ common languages in Data Science\n+ common Data Science Libraries\n+ open source Data Science Tools\n+ an example of arithmetics in python\n\n**Some of the popular languages that Data Scientists use are:**\n+ python\n+ julia\n+ R\n+ java\n+ C++\n+ scala\n+ ruby\n+ visualbasic\n\n__Some of the commonly used libraries used by Data Scientists include:__\n\n_for python_\n\n+ **TensorFlow** _for Deep Learning_\n+ **sci-kit** _for Machine Learning_\n+ **pandas** _for reading data_\n+ **matplotlib** _for Visualisation_\n+ **numpy** _for mathematic modeling & Machine Learning_\n+ **seaborn** _for Visualisation_\n+ **scipy** _for Machine Learning_\n+ **pyTorch** _for Deep Learning_\n\n_for R:_\n\n+ **ggplot2** _for Visualisation_\n+ **Lattice**\n+ **Leaflet**\n+ **Plotly** _for Visualisation_\n+ **dplyr** _for Data Manipulation_\n+ **stringr** _for string manipulation_\n+ **caret** _for Machine Learning_\n+ **ggally**"
  },
  {
   "metadata": {},
   "cell_type": "markdown",
   "source": "### Open Source Data Science Tools\n\n|**Tool**|\n|---|\n|jupyterNotebook|\n|SQLite3|\n|mongoDB|\n|Git|\n|Apache Airflow|\n|Apache Spark|\n|Hadoop|\n|Hive|"
  },
  {
   "metadata": {},
   "cell_type": "markdown",
   "source": "### Below are a few examples of evaluating arithmetic expressions in Python"
  },
  {
   "metadata": {},
   "cell_type": "markdown",
   "source": "**This a simple arithmetic expression to mutiply then add integers**"
  },
  {
   "metadata": {
    "trusted": false
   },
   "cell_type": "code",
   "source": "def f(x):\n    y = 2*x+1\n    print(f\"y = {y}\")\nf(5)",
   "execution_count": 40,
   "outputs": [
    {
     "output_type": "stream",
     "text": "y = 11\n",
     "name": "stdout"
    }
   ]
  },
  {
   "metadata": {},
   "cell_type": "markdown",
   "source": "**This will convert 200 minutes to hours by diving by 60-**"
  },
  {
   "metadata": {
    "trusted": false
   },
   "cell_type": "code",
   "source": "def convert_minutes_in_hours(minutes):\n    hours = minutes/60\n    print(f\"{minutes}min are {hours}h.\")\nconvert_minutes_in_hours(200)",
   "execution_count": 41,
   "outputs": [
    {
     "output_type": "stream",
     "text": "200min are 3.3333333333333335h.\n",
     "name": "stdout"
    }
   ]
  },
  {
   "metadata": {},
   "cell_type": "markdown",
   "source": "## Author:\nMarlon Elias Braje"
  }
 ],
 "metadata": {
  "kernelspec": {
   "name": "python3",
   "display_name": "Python 3",
   "language": "python"
  },
  "language_info": {
   "name": "python",
   "version": "3.10.4",
   "mimetype": "text/x-python",
   "codemirror_mode": {
    "name": "ipython",
    "version": 3
   },
   "pygments_lexer": "ipython3",
   "nbconvert_exporter": "python",
   "file_extension": ".py"
  }
 },
 "nbformat": 4,
 "nbformat_minor": 2
}
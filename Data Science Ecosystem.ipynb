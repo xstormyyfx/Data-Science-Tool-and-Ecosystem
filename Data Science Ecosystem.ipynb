{
 "cells": [
  {
   "metadata": {},
   "cell_type": "markdown",
   "source": "# Data Science Tools and Ecosystem\n__In this Notebook, Data Science Tools and Ecosystem are summarized.__\n\n**Objectives:**\n_In the following you'll get shown:_\n+ common languages in Data Science\n+ common Data Science Libraries\n+ open source Data Science Tools\n+ an example of arithmetics in python\n\n*Some of the popular languages that Data Scientists use are:*\n+ python\n+ julia\n+ R\n+ java\n+ javascript\n+ C++\n\n__Some of the commonly used libraries used by Data Scientists include:__\n\n_for python_\n\n+ TensorFlow\n+ Scikit/sklearn\n+ pandas\n+ matplotlib\n+ numpy\n+ seaborn\n\n_for R:_\n\n+ ggplot2\n+ Lattice\n+ Leaflet\n+ Plotly\n+ dplyr\n+ stringr\n+ caret\n+ ggally"
  },
  {
   "metadata": {},
   "cell_type": "markdown",
   "source": "__Data Science Tools__\n\n| 1 | 2 | 3 |\n|---|---|---|\n|jupyterNotebook|mysql|mongoDB|"
  },
  {
   "metadata": {},
   "cell_type": "markdown",
   "source": "### Below are a few examples of evaluating arithmetic expressions in Python"
  },
  {
   "metadata": {
    "trusted": true
   },
   "cell_type": "code",
   "source": "#This a simple arithmetic expression to mutiply then add integers\ndef f(x):\n    y = 2*x+1\n    print(y)\nf(5)\n\n(3*4)+5",
   "execution_count": 1,
   "outputs": [
    {
     "output_type": "stream",
     "text": "11\n",
     "name": "stdout"
    },
    {
     "output_type": "execute_result",
     "execution_count": 1,
     "data": {
      "text/plain": "17"
     },
     "metadata": {}
    }
   ]
  },
  {
   "metadata": {
    "trusted": true
   },
   "cell_type": "code",
   "source": "#This will convert 200 minutes to hours by diving by 60\ndef convert_minutes_in_hours(minutes):\n    hours = minutes/60\n    print(f\"{minutes}min are {hours}h.\")\nconvert_minutes_in_hours(200)",
   "execution_count": 2,
   "outputs": [
    {
     "output_type": "stream",
     "text": "200min are 3.3333333333333335h.\n",
     "name": "stdout"
    }
   ]
  },
  {
   "metadata": {},
   "cell_type": "markdown",
   "source": "## Author:\nMarlon Elias Braje"
  }
 ],
 "metadata": {
  "kernelspec": {
   "name": "python3",
   "display_name": "Python 3",
   "language": "python"
  },
  "language_info": {
   "name": "python",
   "version": "3.10.4",
   "mimetype": "text/x-python",
   "codemirror_mode": {
    "name": "ipython",
    "version": 3
   },
   "pygments_lexer": "ipython3",
   "nbconvert_exporter": "python",
   "file_extension": ".py"
  }
 },
 "nbformat": 4,
 "nbformat_minor": 2
}
